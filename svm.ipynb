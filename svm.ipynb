{
 "cells": [
  {
   "cell_type": "code",
   "execution_count": 49,
   "metadata": {},
   "outputs": [],
   "source": [
    "import numpy as np\n",
    "import cvxpy as cp\n",
    "import pandas as pd\n",
    "import json\n",
    "from sklearn.preprocessing import StandardScaler\n",
    "\n",
    "data = pd.read_csv('COL774_A5_SVM/train_nls.csv')\n",
    "X = data.drop('target', axis=1).values\n",
    "Y = data['target'].values\n",
    "Y = np.where(Y==0,-1,1)\n",
    "scaler = StandardScaler()\n",
    "X = scaler.fit_transform(X)\n",
    "n, d = X.shape"
   ]
  },
  {
   "cell_type": "code",
   "execution_count": 50,
   "metadata": {},
   "outputs": [],
   "source": [
    "w = cp.Variable(d)        \n",
    "b = cp.Variable()        \n",
    "slack = cp.Variable(n)   \n",
    "\n",
    "C = 1  \n",
    "objective = cp.Minimize(cp.norm1(w)/2 + C * cp.sum(slack))\n",
    "\n",
    "constraints = []\n",
    "for i in range(n):\n",
    "    constraints.append(Y[i] * (X[i] @ w + b) >= 1 - slack[i]) \n",
    "    constraints.append(slack[i] >= 0) \n",
    "\n",
    "problem = cp.Problem(objective, constraints)\n",
    "problem.solve()\n",
    "\n",
    "\n",
    "output = {\n",
    "    \"weights\": w.value.tolist(),  \n",
    "    \"bias\": b.value.item()  \n",
    "}\n",
    "\n",
    "with open(\"svm_weights.json\", \"w\") as json_file:\n",
    "    json.dump(output, json_file, indent=4)"
   ]
  },
  {
   "cell_type": "code",
   "execution_count": 51,
   "metadata": {},
   "outputs": [],
   "source": [
    "separable = 0\n",
    "support_vectors= []\n",
    "if max(slack.value)<1:\n",
    "    separable = 1\n",
    "    for i in range(n):\n",
    "        margin_distance = Y[i] * (X[i] @ w.value + b.value)\n",
    "        if np.isclose(margin_distance, 1, atol=1e-4):  \n",
    "            support_vectors.append(i)\n",
    "\n",
    "output = {\n",
    "    \"seperable\": separable,  \n",
    "    \"support_vectors\": support_vectors\n",
    "}\n",
    "\n",
    "with open(\"svm_sv.json\", \"w\") as json_file:\n",
    "    json.dump(output, json_file, indent=4)"
   ]
  },
  {
   "cell_type": "code",
   "execution_count": null,
   "metadata": {},
   "outputs": [],
   "source": []
  }
 ],
 "metadata": {
  "kernelspec": {
   "display_name": "Python 3",
   "language": "python",
   "name": "python3"
  },
  "language_info": {
   "codemirror_mode": {
    "name": "ipython",
    "version": 3
   },
   "file_extension": ".py",
   "mimetype": "text/x-python",
   "name": "python",
   "nbconvert_exporter": "python",
   "pygments_lexer": "ipython3",
   "version": "3.12.6"
  }
 },
 "nbformat": 4,
 "nbformat_minor": 2
}

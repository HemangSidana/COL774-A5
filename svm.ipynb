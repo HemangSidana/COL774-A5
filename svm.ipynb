{
 "cells": [
  {
   "cell_type": "code",
   "execution_count": 1,
   "metadata": {},
   "outputs": [],
   "source": [
    "import numpy as np\n",
    "import cvxpy as cp\n",
    "import pandas as pd\n",
    "from sklearn.preprocessing import StandardScaler\n",
    "\n",
    "data = pd.read_csv('COL774_A5_SVM/train_ls.csv')\n",
    "X = data.drop('target', axis=1).values\n",
    "Y = data['target'].values\n",
    "Y = np.where(Y==0,-1,1)\n",
    "scaler = StandardScaler()\n",
    "X = scaler.fit_transform(X)\n",
    "n, d = X.shape"
   ]
  },
  {
   "cell_type": "code",
   "execution_count": 2,
   "metadata": {},
   "outputs": [
    {
     "name": "stdout",
     "output_type": "stream",
     "text": [
      "Optimal weights: [ 1.08733809e-11 -2.54047555e-01  6.41014474e-01  9.49696327e-01]\n",
      "Optimal bias: 0.08844444448521421\n",
      "2.4542817472452488e-12\n"
     ]
    }
   ],
   "source": [
    "w = cp.Variable(d)        \n",
    "b = cp.Variable()        \n",
    "slack = cp.Variable(n)   \n",
    "\n",
    "C = 1  \n",
    "objective = cp.Minimize(cp.norm1(w)/2 + C * cp.sum(slack))\n",
    "\n",
    "constraints = []\n",
    "for i in range(n):\n",
    "    constraints.append(Y[i] * (X[i] @ w + b) >= 1 - slack[i]) \n",
    "    constraints.append(slack[i] >= 0) \n",
    "\n",
    "problem = cp.Problem(objective, constraints)\n",
    "problem.solve()\n",
    "\n",
    "print(f\"Optimal weights: {w.value}\")\n",
    "print(f\"Optimal bias: {b.value}\")\n",
    "print(max(slack.value))"
   ]
  },
  {
   "cell_type": "code",
   "execution_count": 3,
   "metadata": {},
   "outputs": [
    {
     "name": "stdout",
     "output_type": "stream",
     "text": [
      "Support vectors (indices): [63, 70, 71, 74]\n",
      "Number of support vectors: 4\n"
     ]
    }
   ],
   "source": [
    "support_vectors = []\n",
    "for i in range(n):\n",
    "    margin_distance = Y[i] * (X[i] @ w.value + b.value)\n",
    "    if np.isclose(margin_distance, 1, atol=1e-4):  \n",
    "        support_vectors.append(i)\n",
    "\n",
    "print(f\"Support vectors (indices): {support_vectors}\")\n",
    "print(f\"Number of support vectors: {len(support_vectors)}\")"
   ]
  },
  {
   "cell_type": "code",
   "execution_count": null,
   "metadata": {},
   "outputs": [],
   "source": []
  }
 ],
 "metadata": {
  "kernelspec": {
   "display_name": "Python 3",
   "language": "python",
   "name": "python3"
  },
  "language_info": {
   "codemirror_mode": {
    "name": "ipython",
    "version": 3
   },
   "file_extension": ".py",
   "mimetype": "text/x-python",
   "name": "python",
   "nbconvert_exporter": "python",
   "pygments_lexer": "ipython3",
   "version": "3.12.6"
  }
 },
 "nbformat": 4,
 "nbformat_minor": 2
}
